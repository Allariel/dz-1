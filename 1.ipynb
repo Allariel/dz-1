{
 "cells": [
  {
   "cell_type": "code",
   "execution_count": 3,
   "id": "c2eb420f",
   "metadata": {},
   "outputs": [
    {
     "name": "stdout",
     "output_type": "stream",
     "text": [
      "Введите номер дня недели5\n",
      "Этот день - не выходной\n"
     ]
    }
   ],
   "source": [
    "#Напишите программу, которая принимает на вход цифру, обозначающую день недели, и проверяет, является ли этот день выходным.\n",
    "number = int(input(\"Введите номер дня недели\"))\n",
    "if (number in (6,7)):\n",
    "    print(\"Этот день - выходной\")\n",
    "else:\n",
    "    print(\"Этот день - не выходной\")"
   ]
  },
  {
   "cell_type": "code",
   "execution_count": 8,
   "id": "afb14b22",
   "metadata": {},
   "outputs": [
    {
     "name": "stdout",
     "output_type": "stream",
     "text": [
      "¬(0⋁0⋁0) = ¬0⋀¬0⋀¬0\n",
      "¬(0⋁0⋁1) = ¬0⋀¬0⋀¬1\n",
      "¬(0⋁1⋁0) = ¬0⋀¬1⋀¬0\n",
      "¬(0⋁1⋁1) = ¬0⋀¬1⋀¬1\n",
      "¬(1⋁0⋁0) = ¬1⋀¬0⋀¬0\n",
      "¬(1⋁0⋁1) = ¬1⋀¬0⋀¬1\n",
      "¬(1⋁1⋁0) = ¬1⋀¬1⋀¬0\n",
      "¬(1⋁1⋁1) = ¬1⋀¬1⋀¬1\n"
     ]
    }
   ],
   "source": [
    "#Напишите программу для. проверки истинности утверждения ¬(X ⋁ Y ⋁ Z) = ¬X ⋀ ¬Y ⋀ ¬Z для всех значений предикат.\n",
    "for x in range (0,2):\n",
    "    for y in range(0,2):\n",
    "        for z in range(0,2):\n",
    "            if(not (x or y or z) == (not x and not y and not z) ):\n",
    "                print (\"¬(\"+str(x)+\"⋁\"+str(y)+\"⋁\"+str(z)+\") = ¬\"+str(x)+\"⋀\"+\"¬\"+str(y)+\"⋀\"+\"¬\"+str(z))\n",
    "            else:\n",
    "                 print (\"¬(\"+str(x)+\"⋁\"+str(y)+\"⋁\"+str(z)+\") != ¬\"+str(x)+\"⋀\"+\"¬\"+str(y)+\"⋀\"+\"¬\"+str(z))\n"
   ]
  },
  {
   "cell_type": "code",
   "execution_count": 14,
   "id": "64472aad",
   "metadata": {},
   "outputs": [
    {
     "name": "stdout",
     "output_type": "stream",
     "text": [
      "X: 1\n",
      "Y: -7\n",
      "4ая\n"
     ]
    }
   ],
   "source": [
    "#Напишите программу, которая принимает на вход координаты точки (X и Y), причём X ≠ 0 и Y ≠ 0 и выдаёт номер четверти плоскости \n",
    "x = 0\n",
    "y = 0\n",
    "while (x==0 or y==0):\n",
    "    x = float(input(\"X: \"))\n",
    "    y = float(input(\"Y: \"))\n",
    "\n",
    "if(x>0 and y>0):\n",
    "    print(\"1ая\")\n",
    "elif(x<0 and y>0):\n",
    "    print(\"2ая\")\n",
    "elif(x<0 and y<0):\n",
    "    print(\"3ая\")\n",
    "elif(x>0 and y<0):\n",
    "    print(\"4ая\")"
   ]
  },
  {
   "cell_type": "code",
   "execution_count": 18,
   "id": "21bf5f3f",
   "metadata": {},
   "outputs": [
    {
     "name": "stdout",
     "output_type": "stream",
     "text": [
      "X: 4\n",
      "x=(0;+ Ꝏ), y=(-Ꝏ:0)\n"
     ]
    }
   ],
   "source": [
    "#Напишите программу, которая по заданному номеру четверти, показывает диапазон возможных координат точек в этой четверти (x и y).\n",
    "part = 0\n",
    "while (part > 4  or part < 1):\n",
    "    part = int(input(\"X: \"))\n",
    "if(part == 1):\n",
    "    print(\"x=(0;+ Ꝏ), y=(0;+Ꝏ)\")\n",
    "elif(part==2):\n",
    "     print(\"x=(-Ꝏ:0), y=(0;+Ꝏ)\")\n",
    "elif(part==3):\n",
    "     print(\"x=(-Ꝏ:0), y=(-Ꝏ:0)\")\n",
    "elif(part):\n",
    "     print(\"x=(0;+ Ꝏ), y=(-Ꝏ:0)\")"
   ]
  },
  {
   "cell_type": "code",
   "execution_count": 36,
   "id": "3a5f5364",
   "metadata": {},
   "outputs": [
    {
     "name": "stdout",
     "output_type": "stream",
     "text": [
      "X: 3\n",
      "Y:6\n",
      "X: 2\n",
      "Y:1\n",
      "5.09902\n"
     ]
    }
   ],
   "source": [
    "#Напишите программу, которая принимает на вход координаты двух точек и находит расстояние между ними в 2D пространстве.\n",
    "import math\n",
    "def Distanse(A,B):\n",
    "    d = math.sqrt( (B[0]-A[0])**2+(B[1]-A[1])**2 )\n",
    "    print(\"{:7.5f}\".format(d))\n",
    "\n",
    "\n",
    "A = [int(input(\"X: \")),int(input(\"Y:\"))]\n",
    "B = [int(input(\"X: \")),int(input(\"Y:\"))]\n",
    "Distanse(A,B)"
   ]
  },
  {
   "cell_type": "code",
   "execution_count": null,
   "id": "472f471c",
   "metadata": {},
   "outputs": [],
   "source": []
  }
 ],
 "metadata": {
  "kernelspec": {
   "display_name": "Python 3 (ipykernel)",
   "language": "python",
   "name": "python3"
  },
  "language_info": {
   "codemirror_mode": {
    "name": "ipython",
    "version": 3
   },
   "file_extension": ".py",
   "mimetype": "text/x-python",
   "name": "python",
   "nbconvert_exporter": "python",
   "pygments_lexer": "ipython3",
   "version": "3.9.13"
  }
 },
 "nbformat": 4,
 "nbformat_minor": 5
}
